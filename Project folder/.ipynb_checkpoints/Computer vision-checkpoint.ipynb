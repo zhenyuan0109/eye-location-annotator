version https://git-lfs.github.com/spec/v1
oid sha256:e8b7cbd19ca660afa684263c278387896a69311dfd8a41d6d43557612a00f7fc
size 177650
